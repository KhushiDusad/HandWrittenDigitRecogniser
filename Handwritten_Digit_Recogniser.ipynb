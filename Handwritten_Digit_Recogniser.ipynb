{
  "nbformat": 4,
  "nbformat_minor": 0,
  "metadata": {
    "colab": {
      "provenance": []
    },
    "kernelspec": {
      "name": "python3",
      "display_name": "Python 3"
    },
    "language_info": {
      "name": "python"
    }
  },
  "cells": [
    {
      "cell_type": "markdown",
      "source": [
        "Impoting the useful libraries"
      ],
      "metadata": {
        "id": "qRV7THPxYFw2"
      }
    },
    {
      "cell_type": "code",
      "execution_count": null,
      "metadata": {
        "id": "Oryg72WHX3Ex"
      },
      "outputs": [],
      "source": [
        "import cv2 as cv\n",
        "import numpy as np\n",
        "import matplotlib.pyplot as plt\n",
        "import tensorflow as tf\n",
        "import pandas as pd"
      ]
    },
    {
      "cell_type": "markdown",
      "source": [
        "Importing the dataset"
      ],
      "metadata": {
        "id": "5Jh_hT-oYLZ7"
      }
    },
    {
      "cell_type": "code",
      "source": [
        "mnist=tf.keras.datasets.mnist\n",
        "(xtrain,ytrain),(xtest,ytest)=mnist.load_data()\n",
        "#load_data function loads the mnist data and splits it into training and testing data"
      ],
      "metadata": {
        "id": "WCZQgeElX7FW",
        "colab": {
          "base_uri": "https://localhost:8080/"
        },
        "outputId": "0e25a61a-3f6e-4128-f5b3-7c66a950e9b8"
      },
      "execution_count": null,
      "outputs": [
        {
          "output_type": "stream",
          "name": "stdout",
          "text": [
            "Downloading data from https://storage.googleapis.com/tensorflow/tf-keras-datasets/mnist.npz\n",
            "11490434/11490434 [==============================] - 0s 0us/step\n"
          ]
        }
      ]
    },
    {
      "cell_type": "markdown",
      "source": [
        "Normalising the data"
      ],
      "metadata": {
        "id": "8iNLGinDYP9k"
      }
    },
    {
      "cell_type": "code",
      "source": [
        "xtrain=tf.keras.utils.normalize(xtrain,axis=1)\n",
        "xtest=tf.keras.utils.normalize(xtest,axis=1)\n",
        "#we do not normalize the y data because its just labels"
      ],
      "metadata": {
        "id": "IO3anH22Yhk7"
      },
      "execution_count": null,
      "outputs": []
    },
    {
      "cell_type": "code",
      "source": [
        "print(\"xtrain shape:\", xtrain.shape) #60000 images, 28x28 grayscale image\n",
        "print(\"ytrain shape:\", ytrain.shape) #60000 labels corresponding to training dataset\n",
        "print(\"xtest shape:\", xtest.shape) #10000 images, 28x28 grayscale image\n",
        "print(\"ytest shape:\", ytest.shape) #1000 labels corresponding to testing dataset"
      ],
      "metadata": {
        "colab": {
          "base_uri": "https://localhost:8080/"
        },
        "id": "nXKEdg5VSlPy",
        "outputId": "f1a80915-ce32-4f23-cbd2-27bb7d6b6145"
      },
      "execution_count": null,
      "outputs": [
        {
          "output_type": "stream",
          "name": "stdout",
          "text": [
            "xtrain shape: (60000, 28, 28)\n",
            "ytrain shape: (60000,)\n",
            "xtest shape: (10000, 28, 28)\n",
            "ytest shape: (10000,)\n"
          ]
        }
      ]
    },
    {
      "cell_type": "markdown",
      "source": [
        "Defining the model"
      ],
      "metadata": {
        "id": "YRvX10ZcYn1P"
      }
    },
    {
      "cell_type": "code",
      "source": [
        "#We are taking an input layer, 2 hidden layers and 1 output layer\n",
        "model=tf.keras.models.Sequential()\n",
        "model.add(tf.keras.layers.Flatten(input_shape=(28,28)))  #Input Layer\n",
        "model.add(tf.keras.layers.Dense(units=128,activation='relu')) #Hidden Layer 1\n",
        "model.add(tf.keras.layers.Dense(units=128,activation='relu')) #Hidden Layer 2\n",
        "model.add(tf.keras.layers.Dense(units=10,activation='softmax')) #Output Layer"
      ],
      "metadata": {
        "id": "tB4zHN7AX99t"
      },
      "execution_count": null,
      "outputs": []
    },
    {
      "cell_type": "markdown",
      "source": [
        "Compiling the model"
      ],
      "metadata": {
        "id": "JBATKVyMYt3P"
      }
    },
    {
      "cell_type": "code",
      "source": [
        "model.compile(optimizer='adam',loss='sparse_categorical_crossentropy',metrics=['accuracy'])"
      ],
      "metadata": {
        "id": "wxwx-kYaZQAv"
      },
      "execution_count": null,
      "outputs": []
    },
    {
      "cell_type": "markdown",
      "source": [
        "Model Training"
      ],
      "metadata": {
        "id": "mKFDaHYQZPm8"
      }
    },
    {
      "cell_type": "code",
      "source": [
        "model.fit(xtrain,ytrain,epochs=35)\n",
        "#Epochs- The total number of iterations for training the machine learning model with all the training data in one cycle"
      ],
      "metadata": {
        "colab": {
          "base_uri": "https://localhost:8080/"
        },
        "id": "NFb87kGsZVPC",
        "outputId": "183956fe-40fb-4aa8-fb4a-285f0520ba13"
      },
      "execution_count": null,
      "outputs": [
        {
          "output_type": "stream",
          "name": "stdout",
          "text": [
            "Epoch 1/35\n",
            "1875/1875 [==============================] - 6s 2ms/step - loss: 0.2598 - accuracy: 0.9240\n",
            "Epoch 2/35\n",
            "1875/1875 [==============================] - 4s 2ms/step - loss: 0.1056 - accuracy: 0.9670\n",
            "Epoch 3/35\n",
            "1875/1875 [==============================] - 4s 2ms/step - loss: 0.0733 - accuracy: 0.9766\n",
            "Epoch 4/35\n",
            "1875/1875 [==============================] - 4s 2ms/step - loss: 0.0536 - accuracy: 0.9829\n",
            "Epoch 5/35\n",
            "1875/1875 [==============================] - 4s 2ms/step - loss: 0.0412 - accuracy: 0.9868\n",
            "Epoch 6/35\n",
            "1875/1875 [==============================] - 4s 2ms/step - loss: 0.0304 - accuracy: 0.9901\n",
            "Epoch 7/35\n",
            "1875/1875 [==============================] - 4s 2ms/step - loss: 0.0262 - accuracy: 0.9914\n",
            "Epoch 8/35\n",
            "1875/1875 [==============================] - 4s 2ms/step - loss: 0.0208 - accuracy: 0.9928\n",
            "Epoch 9/35\n",
            "1875/1875 [==============================] - 4s 2ms/step - loss: 0.0170 - accuracy: 0.9944\n",
            "Epoch 10/35\n",
            "1875/1875 [==============================] - 4s 2ms/step - loss: 0.0147 - accuracy: 0.9949\n",
            "Epoch 11/35\n",
            "1875/1875 [==============================] - 4s 2ms/step - loss: 0.0142 - accuracy: 0.9950\n",
            "Epoch 12/35\n",
            "1875/1875 [==============================] - 4s 2ms/step - loss: 0.0124 - accuracy: 0.9956\n",
            "Epoch 13/35\n",
            "1875/1875 [==============================] - 4s 2ms/step - loss: 0.0105 - accuracy: 0.9965\n",
            "Epoch 14/35\n",
            "1875/1875 [==============================] - 4s 2ms/step - loss: 0.0099 - accuracy: 0.9967\n",
            "Epoch 15/35\n",
            "1875/1875 [==============================] - 4s 2ms/step - loss: 0.0092 - accuracy: 0.9966\n",
            "Epoch 16/35\n",
            "1875/1875 [==============================] - 4s 2ms/step - loss: 0.0090 - accuracy: 0.9968\n",
            "Epoch 17/35\n",
            "1875/1875 [==============================] - 4s 2ms/step - loss: 0.0095 - accuracy: 0.9969\n",
            "Epoch 18/35\n",
            "1875/1875 [==============================] - 4s 2ms/step - loss: 0.0065 - accuracy: 0.9980\n",
            "Epoch 19/35\n",
            "1875/1875 [==============================] - 4s 2ms/step - loss: 0.0099 - accuracy: 0.9969\n",
            "Epoch 20/35\n",
            "1875/1875 [==============================] - 4s 2ms/step - loss: 0.0065 - accuracy: 0.9978\n",
            "Epoch 21/35\n",
            "1875/1875 [==============================] - 4s 2ms/step - loss: 0.0087 - accuracy: 0.9972\n",
            "Epoch 22/35\n",
            "1875/1875 [==============================] - 4s 2ms/step - loss: 0.0053 - accuracy: 0.9983\n",
            "Epoch 23/35\n",
            "1875/1875 [==============================] - 4s 2ms/step - loss: 0.0075 - accuracy: 0.9975\n",
            "Epoch 24/35\n",
            "1875/1875 [==============================] - 4s 2ms/step - loss: 0.0063 - accuracy: 0.9978\n",
            "Epoch 25/35\n",
            "1875/1875 [==============================] - 4s 2ms/step - loss: 0.0062 - accuracy: 0.9981\n",
            "Epoch 26/35\n",
            "1875/1875 [==============================] - 4s 2ms/step - loss: 0.0068 - accuracy: 0.9978\n",
            "Epoch 27/35\n",
            "1875/1875 [==============================] - 4s 2ms/step - loss: 0.0067 - accuracy: 0.9977\n",
            "Epoch 28/35\n",
            "1875/1875 [==============================] - 4s 2ms/step - loss: 0.0082 - accuracy: 0.9974\n",
            "Epoch 29/35\n",
            "1875/1875 [==============================] - 4s 2ms/step - loss: 0.0059 - accuracy: 0.9980\n",
            "Epoch 30/35\n",
            "1875/1875 [==============================] - 4s 2ms/step - loss: 0.0045 - accuracy: 0.9986\n",
            "Epoch 31/35\n",
            "1875/1875 [==============================] - 4s 2ms/step - loss: 0.0050 - accuracy: 0.9985\n",
            "Epoch 32/35\n",
            "1875/1875 [==============================] - 4s 2ms/step - loss: 0.0077 - accuracy: 0.9975\n",
            "Epoch 33/35\n",
            "1875/1875 [==============================] - 4s 2ms/step - loss: 0.0040 - accuracy: 0.9988\n",
            "Epoch 34/35\n",
            "1875/1875 [==============================] - 4s 2ms/step - loss: 0.0068 - accuracy: 0.9977\n",
            "Epoch 35/35\n",
            "1875/1875 [==============================] - 4s 2ms/step - loss: 0.0047 - accuracy: 0.9984\n"
          ]
        },
        {
          "output_type": "execute_result",
          "data": {
            "text/plain": [
              "<keras.callbacks.History at 0x7d94aa1517e0>"
            ]
          },
          "metadata": {},
          "execution_count": 7
        }
      ]
    },
    {
      "cell_type": "markdown",
      "source": [
        "Testing the model"
      ],
      "metadata": {
        "id": "eUIwXJCAaB_3"
      }
    },
    {
      "cell_type": "code",
      "source": [
        "model.evaluate(xtest,ytest)"
      ],
      "metadata": {
        "colab": {
          "base_uri": "https://localhost:8080/"
        },
        "id": "C6Q_Maf7aBsn",
        "outputId": "53dededf-65ea-4a32-f880-1201bd09456f"
      },
      "execution_count": null,
      "outputs": [
        {
          "output_type": "stream",
          "name": "stdout",
          "text": [
            "313/313 [==============================] - 0s 1ms/step - loss: 0.1941 - accuracy: 0.9766\n"
          ]
        },
        {
          "output_type": "execute_result",
          "data": {
            "text/plain": [
              "[0.19410096108913422, 0.9765999913215637]"
            ]
          },
          "metadata": {},
          "execution_count": 8
        }
      ]
    },
    {
      "cell_type": "markdown",
      "source": [
        "Making Predictions"
      ],
      "metadata": {
        "id": "ZmGTwjrBaakX"
      }
    },
    {
      "cell_type": "code",
      "source": [
        "imgpath=input(\"Enter image path: \")\n",
        "img=cv.imread(imgpath)[:,:,0]\n",
        "img=np.invert(np.array([img]))\n",
        "prediction=model.predict(img)\n",
        "print(f'The result is probably {np.argmax(prediction)}')\n",
        "plt.imshow(img[0])\n",
        "plt.show()"
      ],
      "metadata": {
        "colab": {
          "base_uri": "https://localhost:8080/",
          "height": 484
        },
        "id": "vA2D6Gzradi5",
        "outputId": "38b5c87f-3aff-4367-f4fd-6af4d50c47aa"
      },
      "execution_count": null,
      "outputs": [
        {
          "output_type": "stream",
          "name": "stdout",
          "text": [
            "Enter image path: /content/1.png\n",
            "1/1 [==============================] - 0s 15ms/step\n",
            "The result is probably 2\n"
          ]
        },
        {
          "output_type": "display_data",
          "data": {
            "text/plain": [
              "<Figure size 640x480 with 1 Axes>"
            ],
            "image/png": "[encoded data removed]"
          },
          "metadata": {}
        }
      ]
    },
    {
      "cell_type": "markdown",
      "source": [
        "Saving the model"
      ],
      "metadata": {
        "id": "s5RUs1feaQ1x"
      }
    },
    {
      "cell_type": "code",
      "source": [
        "model.save('/content/drive/MyDrive/digits.model')"
      ],
      "metadata": {
        "id": "oQL8ljz-aTaF"
      },
      "execution_count": null,
      "outputs": []
    }
  ]
}